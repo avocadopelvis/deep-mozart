{
  "nbformat": 4,
  "nbformat_minor": 0,
  "metadata": {
    "colab": {
      "provenance": [],
      "mount_file_id": "1_hwEXQT-rdYwuePLXF0O7nnhF4DnwVE7",
      "authorship_tag": "ABX9TyMffCuhYo8xM+FBHGCmLrzT",
      "include_colab_link": true
    },
    "kernelspec": {
      "name": "python3",
      "display_name": "Python 3"
    },
    "language_info": {
      "name": "python"
    },
    "accelerator": "GPU",
    "gpuClass": "standard"
  },
  "cells": [
    {
      "cell_type": "markdown",
      "metadata": {
        "id": "view-in-github",
        "colab_type": "text"
      },
      "source": [
        "<a href=\"https://colab.research.google.com/github/avocadopelvis/deep-music/blob/main/deep-music-model.ipynb\" target=\"_parent\"><img src=\"https://colab.research.google.com/assets/colab-badge.svg\" alt=\"Open In Colab\"/></a>"
      ]
    },
    {
      "cell_type": "code",
      "execution_count": 12,
      "metadata": {
        "id": "uzpsmdUyGbVE"
      },
      "outputs": [],
      "source": [
        "# load libraries\n",
        "import numpy as np\n",
        "import pandas as pd\n",
        "import seaborn as sns\n",
        "import matplotlib.pyplot as plt\n",
        "import matplotlib.patches as mpatches\n",
        "%matplotlib inline\n",
        "from sklearn.model_selection import train_test_split\n",
        "\n",
        "import music21\n",
        "from music21 import *\n",
        "\n",
        "import tensorflow as tf\n",
        "import tensorflow.keras.backend as K\n",
        "from tensorflow.keras.models import Sequential\n",
        "from tensorflow.keras.layers import LSTM, Dense, Dropout\n",
        "from tensorflow.keras.optimizers import Adamax\n",
        "\n",
        "# import os\n",
        "# import sys\n",
        "# import warnings\n",
        "# warnings.filterwarnings(\"ignore\")\n",
        "# warnings.simplefilter(\"ignore\")\n",
        "# np.random.seed(42)\n",
        "\n",
        "import json\n",
        "import random\n",
        "import IPython\n",
        "from IPython.display import Image, Audio\n",
        "# from collections import Counter"
      ]
    },
    {
      "cell_type": "code",
      "source": [
        "# load corpus\n",
        "with open(\"/content/drive/MyDrive/ML PROJECT/data.txt\", 'r') as f:\n",
        "  corpus = json.load(f)"
      ],
      "metadata": {
        "id": "odi-SEGdJblx"
      },
      "execution_count": 13,
      "outputs": []
    },
    {
      "cell_type": "markdown",
      "source": [
        "### Create a list of sorted unique characters"
      ],
      "metadata": {
        "id": "qMB0c6nNJ2SX"
      }
    },
    {
      "cell_type": "code",
      "source": [
        "# store all the unique characters in the corpus to a mapping dictionary\n",
        "symbol = sorted(list(set(corpus)))\n",
        "\n",
        "corpus_len = len(corpus)\n",
        "symbol_len = len(symbol)\n",
        "\n",
        "# build a dictionary to access the vocabulary from indices & vice versa\n",
        "map = dict((c, i) for i, c in enumerate(symbol))\n",
        "reverse_map = dict((i, c) for i, c in enumerate(symbol))\n",
        "\n",
        "print(\"Total number of characters:\", corpus_len)\n",
        "print(\"Number of unique characters:\", symbol_len)"
      ],
      "metadata": {
        "colab": {
          "base_uri": "https://localhost:8080/"
        },
        "id": "ny7AEkSlJmQO",
        "outputId": "b25fb81e-0b40-4632-dc09-6ffff0c35eab"
      },
      "execution_count": 14,
      "outputs": [
        {
          "output_type": "stream",
          "name": "stdout",
          "text": [
            "Total number of characters: 59855\n",
            "Number of unique characters: 228\n"
          ]
        }
      ]
    },
    {
      "cell_type": "markdown",
      "source": [
        "### Encode & split the corpus as labels & targets"
      ],
      "metadata": {
        "id": "Tzc47PxPMePJ"
      }
    },
    {
      "cell_type": "code",
      "source": [
        "length = 40\n",
        "features = []\n",
        "targets = []\n",
        "\n",
        "for i in range(0, corpus_len - length, 1):\n",
        "  feature = corpus[i:i+length]\n",
        "  target = corpus[i+length]\n",
        "  features.append([map[j] for j in feature])\n",
        "  targets.append(map[target])\n",
        "\n",
        "datapoints_len = len(targets)\n",
        "print(\"Total number of sequences in the corpus:\", datapoints_len)"
      ],
      "metadata": {
        "colab": {
          "base_uri": "https://localhost:8080/"
        },
        "id": "tfqqRIfDLFrR",
        "outputId": "868c645b-6fb9-43d3-dd54-e44309b99236"
      },
      "execution_count": 15,
      "outputs": [
        {
          "output_type": "stream",
          "name": "stdout",
          "text": [
            "Total number of sequences in the corpus: 59815\n"
          ]
        }
      ]
    },
    {
      "cell_type": "code",
      "source": [
        "# reshape X & normalize\n",
        "X = (np.reshape(features, (datapoints_len, length, 1))) / float(symbol_len)\n",
        "\n",
        "# one hot encode the output variable\n",
        "y = tf.keras.utils.to_categorical(targets)"
      ],
      "metadata": {
        "id": "43hFRfOVNnIv"
      },
      "execution_count": 16,
      "outputs": []
    },
    {
      "cell_type": "markdown",
      "source": [
        "Splitting train & seed datasets"
      ],
      "metadata": {
        "id": "hqyO32_nOmy4"
      }
    },
    {
      "cell_type": "code",
      "source": [
        "X_train, X_seed, y_train, y_seed = train_test_split(X, y, test_size = 0.2, random_state = 42)"
      ],
      "metadata": {
        "id": "pIdD7fNROTgN"
      },
      "execution_count": 17,
      "outputs": []
    },
    {
      "cell_type": "code",
      "source": [
        "rate = 0.1\n",
        "learning_rate = 0.01\n",
        "optimizer = Adamax(learning_rate = learning_rate)\n",
        "loss = 'categorical_crossentropy'\n",
        "batch_size = 256\n",
        "epochs = 200"
      ],
      "metadata": {
        "id": "I1495qL9fwt0"
      },
      "execution_count": 18,
      "outputs": []
    },
    {
      "cell_type": "markdown",
      "source": [
        "### MODEL"
      ],
      "metadata": {
        "id": "7oLMy6B3efFq"
      }
    },
    {
      "cell_type": "code",
      "source": [
        "model = Sequential()\n",
        "model.add(LSTM(512, input_shape = (X.shape[1], X.shape[2]), return_sequences = True))\n",
        "model.add(Dropout(rate = rate))\n",
        "model.add(LSTM(256))\n",
        "model.add(Dense(256))\n",
        "model.add(Dropout(rate = rate))\n",
        "model.add(Dense(y.shape[1], activation = 'softmax'))\n",
        "\n",
        "model.compile(loss = loss, optimizer = optimizer)\n",
        "model.summary()"
      ],
      "metadata": {
        "colab": {
          "base_uri": "https://localhost:8080/"
        },
        "id": "YG5V8z3zOzS8",
        "outputId": "e7e5fcd5-db04-426e-d4ed-75593bdd8671"
      },
      "execution_count": 19,
      "outputs": [
        {
          "output_type": "stream",
          "name": "stdout",
          "text": [
            "Model: \"sequential_1\"\n",
            "_________________________________________________________________\n",
            " Layer (type)                Output Shape              Param #   \n",
            "=================================================================\n",
            " lstm_2 (LSTM)               (None, 40, 512)           1052672   \n",
            "                                                                 \n",
            " dropout_2 (Dropout)         (None, 40, 512)           0         \n",
            "                                                                 \n",
            " lstm_3 (LSTM)               (None, 256)               787456    \n",
            "                                                                 \n",
            " dense_2 (Dense)             (None, 256)               65792     \n",
            "                                                                 \n",
            " dropout_3 (Dropout)         (None, 256)               0         \n",
            "                                                                 \n",
            " dense_3 (Dense)             (None, 228)               58596     \n",
            "                                                                 \n",
            "=================================================================\n",
            "Total params: 1,964,516\n",
            "Trainable params: 1,964,516\n",
            "Non-trainable params: 0\n",
            "_________________________________________________________________\n"
          ]
        }
      ]
    },
    {
      "cell_type": "code",
      "source": [
        "# train the model\n",
        "history = model.fit(X_train, y_train, batch_size = batch_size, epochs = epochs)"
      ],
      "metadata": {
        "colab": {
          "base_uri": "https://localhost:8080/"
        },
        "id": "DayhlD_Yd95T",
        "outputId": "f94e7955-f596-4eb0-9b05-cf29e422a919"
      },
      "execution_count": 20,
      "outputs": [
        {
          "output_type": "stream",
          "name": "stdout",
          "text": [
            "Epoch 1/200\n",
            "187/187 [==============================] - 12s 50ms/step - loss: 4.5181\n",
            "Epoch 2/200\n",
            "187/187 [==============================] - 9s 48ms/step - loss: 4.4313\n",
            "Epoch 3/200\n",
            "187/187 [==============================] - 9s 46ms/step - loss: 4.4243\n",
            "Epoch 4/200\n",
            "187/187 [==============================] - 9s 47ms/step - loss: 4.4157\n",
            "Epoch 5/200\n",
            "187/187 [==============================] - 9s 46ms/step - loss: 4.4057\n",
            "Epoch 6/200\n",
            "187/187 [==============================] - 9s 46ms/step - loss: 4.3466\n",
            "Epoch 7/200\n",
            "187/187 [==============================] - 9s 46ms/step - loss: 4.3167\n",
            "Epoch 8/200\n",
            "187/187 [==============================] - 8s 45ms/step - loss: 4.3047\n",
            "Epoch 9/200\n",
            "187/187 [==============================] - 8s 45ms/step - loss: 4.3004\n",
            "Epoch 10/200\n",
            "187/187 [==============================] - 9s 46ms/step - loss: 4.2924\n",
            "Epoch 11/200\n",
            "187/187 [==============================] - 8s 45ms/step - loss: 4.2865\n",
            "Epoch 12/200\n",
            "187/187 [==============================] - 9s 46ms/step - loss: 4.2827\n",
            "Epoch 13/200\n",
            "187/187 [==============================] - 9s 46ms/step - loss: 4.2745\n",
            "Epoch 14/200\n",
            "187/187 [==============================] - 9s 46ms/step - loss: 4.2617\n",
            "Epoch 15/200\n",
            "187/187 [==============================] - 9s 46ms/step - loss: 4.2503\n",
            "Epoch 16/200\n",
            "187/187 [==============================] - 8s 45ms/step - loss: 4.2350\n",
            "Epoch 17/200\n",
            "187/187 [==============================] - 9s 46ms/step - loss: 4.2264\n",
            "Epoch 18/200\n",
            "187/187 [==============================] - 8s 45ms/step - loss: 4.2100\n",
            "Epoch 19/200\n",
            "187/187 [==============================] - 8s 45ms/step - loss: 4.1945\n",
            "Epoch 20/200\n",
            "187/187 [==============================] - 8s 45ms/step - loss: 4.1695\n",
            "Epoch 21/200\n",
            "187/187 [==============================] - 8s 45ms/step - loss: 4.1431\n",
            "Epoch 22/200\n",
            "187/187 [==============================] - 9s 46ms/step - loss: 4.1136\n",
            "Epoch 23/200\n",
            "187/187 [==============================] - 9s 46ms/step - loss: 4.0740\n",
            "Epoch 24/200\n",
            "187/187 [==============================] - 8s 45ms/step - loss: 4.0363\n",
            "Epoch 25/200\n",
            "187/187 [==============================] - 9s 45ms/step - loss: 3.9775\n",
            "Epoch 26/200\n",
            "187/187 [==============================] - 9s 46ms/step - loss: 3.9054\n",
            "Epoch 27/200\n",
            "187/187 [==============================] - 9s 46ms/step - loss: 3.8249\n",
            "Epoch 28/200\n",
            "187/187 [==============================] - 9s 46ms/step - loss: 3.7281\n",
            "Epoch 29/200\n",
            "187/187 [==============================] - 9s 46ms/step - loss: 3.6164\n",
            "Epoch 30/200\n",
            "187/187 [==============================] - 9s 46ms/step - loss: 3.4946\n",
            "Epoch 31/200\n",
            "187/187 [==============================] - 9s 46ms/step - loss: 3.3647\n",
            "Epoch 32/200\n",
            "187/187 [==============================] - 9s 46ms/step - loss: 3.2251\n",
            "Epoch 33/200\n",
            "187/187 [==============================] - 9s 46ms/step - loss: 3.0805\n",
            "Epoch 34/200\n",
            "187/187 [==============================] - 9s 46ms/step - loss: 2.9282\n",
            "Epoch 35/200\n",
            "187/187 [==============================] - 9s 46ms/step - loss: 2.7785\n",
            "Epoch 36/200\n",
            "187/187 [==============================] - 9s 46ms/step - loss: 2.6313\n",
            "Epoch 37/200\n",
            "187/187 [==============================] - 9s 46ms/step - loss: 2.4862\n",
            "Epoch 38/200\n",
            "187/187 [==============================] - 9s 46ms/step - loss: 2.3406\n",
            "Epoch 39/200\n",
            "187/187 [==============================] - 9s 46ms/step - loss: 2.1923\n",
            "Epoch 40/200\n",
            "187/187 [==============================] - 9s 46ms/step - loss: 2.0563\n",
            "Epoch 41/200\n",
            "187/187 [==============================] - 9s 46ms/step - loss: 1.9101\n",
            "Epoch 42/200\n",
            "187/187 [==============================] - 9s 46ms/step - loss: 1.7893\n",
            "Epoch 43/200\n",
            "187/187 [==============================] - 9s 46ms/step - loss: 1.6681\n",
            "Epoch 44/200\n",
            "187/187 [==============================] - 9s 46ms/step - loss: 1.5576\n",
            "Epoch 45/200\n",
            "187/187 [==============================] - 9s 46ms/step - loss: 1.4439\n",
            "Epoch 46/200\n",
            "187/187 [==============================] - 9s 46ms/step - loss: 1.3521\n",
            "Epoch 47/200\n",
            "187/187 [==============================] - 9s 46ms/step - loss: 1.2666\n",
            "Epoch 48/200\n",
            "187/187 [==============================] - 9s 49ms/step - loss: 1.1832\n",
            "Epoch 49/200\n",
            "187/187 [==============================] - 9s 46ms/step - loss: 1.0930\n",
            "Epoch 50/200\n",
            "187/187 [==============================] - 9s 46ms/step - loss: 1.0293\n",
            "Epoch 51/200\n",
            "187/187 [==============================] - 9s 46ms/step - loss: 0.9510\n",
            "Epoch 52/200\n",
            "187/187 [==============================] - 10s 53ms/step - loss: 0.8915\n",
            "Epoch 53/200\n",
            "187/187 [==============================] - 9s 49ms/step - loss: 0.8356\n",
            "Epoch 54/200\n",
            "187/187 [==============================] - 10s 51ms/step - loss: 0.7984\n",
            "Epoch 55/200\n",
            "187/187 [==============================] - 10s 52ms/step - loss: 0.7427\n",
            "Epoch 56/200\n",
            "187/187 [==============================] - 9s 48ms/step - loss: 0.6944\n",
            "Epoch 57/200\n",
            "187/187 [==============================] - 9s 48ms/step - loss: 0.6696\n",
            "Epoch 58/200\n",
            "187/187 [==============================] - 9s 49ms/step - loss: 0.6174\n",
            "Epoch 59/200\n",
            "187/187 [==============================] - 9s 47ms/step - loss: 0.5992\n",
            "Epoch 60/200\n",
            "187/187 [==============================] - 9s 46ms/step - loss: 0.5639\n",
            "Epoch 61/200\n",
            "187/187 [==============================] - 9s 46ms/step - loss: 0.5262\n",
            "Epoch 62/200\n",
            "187/187 [==============================] - 9s 46ms/step - loss: 0.5064\n",
            "Epoch 63/200\n",
            "187/187 [==============================] - 9s 46ms/step - loss: 0.4853\n",
            "Epoch 64/200\n",
            "187/187 [==============================] - 9s 46ms/step - loss: 0.4657\n",
            "Epoch 65/200\n",
            "187/187 [==============================] - 9s 46ms/step - loss: 0.4423\n",
            "Epoch 66/200\n",
            "187/187 [==============================] - 9s 46ms/step - loss: 0.4495\n",
            "Epoch 67/200\n",
            "187/187 [==============================] - 9s 48ms/step - loss: 0.4184\n",
            "Epoch 68/200\n",
            "187/187 [==============================] - 9s 46ms/step - loss: 0.4125\n",
            "Epoch 69/200\n",
            "187/187 [==============================] - 9s 46ms/step - loss: 0.3884\n",
            "Epoch 70/200\n",
            "187/187 [==============================] - 9s 47ms/step - loss: 0.3775\n",
            "Epoch 71/200\n",
            "187/187 [==============================] - 9s 46ms/step - loss: 0.3680\n",
            "Epoch 72/200\n",
            "187/187 [==============================] - 9s 46ms/step - loss: 0.3443\n",
            "Epoch 73/200\n",
            "187/187 [==============================] - 9s 46ms/step - loss: 0.3391\n",
            "Epoch 74/200\n",
            "187/187 [==============================] - 9s 49ms/step - loss: 0.3331\n",
            "Epoch 75/200\n",
            "187/187 [==============================] - 9s 47ms/step - loss: 0.3413\n",
            "Epoch 76/200\n",
            "187/187 [==============================] - 9s 46ms/step - loss: 0.3123\n",
            "Epoch 77/200\n",
            "187/187 [==============================] - 9s 46ms/step - loss: 0.3265\n",
            "Epoch 78/200\n",
            "187/187 [==============================] - 9s 46ms/step - loss: 0.3035\n",
            "Epoch 79/200\n",
            "187/187 [==============================] - 9s 46ms/step - loss: 0.2920\n",
            "Epoch 80/200\n",
            "187/187 [==============================] - 9s 46ms/step - loss: 0.2957\n",
            "Epoch 81/200\n",
            "187/187 [==============================] - 9s 46ms/step - loss: 0.2938\n",
            "Epoch 82/200\n",
            "187/187 [==============================] - 9s 47ms/step - loss: 0.2707\n",
            "Epoch 83/200\n",
            "187/187 [==============================] - 9s 47ms/step - loss: 0.2698\n",
            "Epoch 84/200\n",
            "187/187 [==============================] - 9s 46ms/step - loss: 0.2712\n",
            "Epoch 85/200\n",
            "187/187 [==============================] - 9s 46ms/step - loss: 0.2596\n",
            "Epoch 86/200\n",
            "187/187 [==============================] - 9s 48ms/step - loss: 0.2539\n",
            "Epoch 87/200\n",
            "187/187 [==============================] - 9s 47ms/step - loss: 0.2562\n",
            "Epoch 88/200\n",
            "187/187 [==============================] - 9s 46ms/step - loss: 0.2361\n",
            "Epoch 89/200\n",
            "187/187 [==============================] - 9s 46ms/step - loss: 0.2550\n",
            "Epoch 90/200\n",
            "187/187 [==============================] - 9s 46ms/step - loss: 0.2299\n",
            "Epoch 91/200\n",
            "187/187 [==============================] - 9s 46ms/step - loss: 0.2318\n",
            "Epoch 92/200\n",
            "187/187 [==============================] - 9s 46ms/step - loss: 0.2268\n",
            "Epoch 93/200\n",
            "187/187 [==============================] - 9s 46ms/step - loss: 0.2302\n",
            "Epoch 94/200\n",
            "187/187 [==============================] - 9s 46ms/step - loss: 0.2142\n",
            "Epoch 95/200\n",
            "187/187 [==============================] - 9s 46ms/step - loss: 0.2311\n",
            "Epoch 96/200\n",
            "187/187 [==============================] - 9s 46ms/step - loss: 0.2110\n",
            "Epoch 97/200\n",
            "187/187 [==============================] - 9s 46ms/step - loss: 0.2194\n",
            "Epoch 98/200\n",
            "187/187 [==============================] - 9s 46ms/step - loss: 0.2070\n",
            "Epoch 99/200\n",
            "187/187 [==============================] - 9s 46ms/step - loss: 0.1964\n",
            "Epoch 100/200\n",
            "187/187 [==============================] - 9s 46ms/step - loss: 0.2027\n",
            "Epoch 101/200\n",
            "187/187 [==============================] - 9s 46ms/step - loss: 0.2033\n",
            "Epoch 102/200\n",
            "187/187 [==============================] - 9s 46ms/step - loss: 0.1935\n",
            "Epoch 103/200\n",
            "187/187 [==============================] - 9s 46ms/step - loss: 0.2031\n",
            "Epoch 104/200\n",
            "187/187 [==============================] - 9s 46ms/step - loss: 0.1873\n",
            "Epoch 105/200\n",
            "187/187 [==============================] - 9s 46ms/step - loss: 0.1989\n",
            "Epoch 106/200\n",
            "187/187 [==============================] - 9s 46ms/step - loss: 0.1872\n",
            "Epoch 107/200\n",
            "187/187 [==============================] - 9s 46ms/step - loss: 0.1770\n",
            "Epoch 108/200\n",
            "187/187 [==============================] - 9s 46ms/step - loss: 0.1850\n",
            "Epoch 109/200\n",
            "187/187 [==============================] - 9s 46ms/step - loss: 0.1925\n",
            "Epoch 110/200\n",
            "187/187 [==============================] - 9s 46ms/step - loss: 0.1805\n",
            "Epoch 111/200\n",
            "187/187 [==============================] - 9s 46ms/step - loss: 0.1704\n",
            "Epoch 112/200\n",
            "187/187 [==============================] - 9s 46ms/step - loss: 0.1816\n",
            "Epoch 113/200\n",
            "187/187 [==============================] - 9s 46ms/step - loss: 0.1687\n",
            "Epoch 114/200\n",
            "187/187 [==============================] - 9s 46ms/step - loss: 0.1719\n",
            "Epoch 115/200\n",
            "187/187 [==============================] - 9s 46ms/step - loss: 0.1709\n",
            "Epoch 116/200\n",
            "187/187 [==============================] - 9s 46ms/step - loss: 0.1673\n",
            "Epoch 117/200\n",
            "187/187 [==============================] - 9s 46ms/step - loss: 0.1760\n",
            "Epoch 118/200\n",
            "187/187 [==============================] - 9s 46ms/step - loss: 0.1603\n",
            "Epoch 119/200\n",
            "187/187 [==============================] - 9s 46ms/step - loss: 0.1679\n",
            "Epoch 120/200\n",
            "187/187 [==============================] - 9s 46ms/step - loss: 0.1558\n",
            "Epoch 121/200\n",
            "187/187 [==============================] - 9s 46ms/step - loss: 0.1593\n",
            "Epoch 122/200\n",
            "187/187 [==============================] - 9s 46ms/step - loss: 0.1608\n",
            "Epoch 123/200\n",
            "187/187 [==============================] - 9s 46ms/step - loss: 0.1636\n",
            "Epoch 124/200\n",
            "187/187 [==============================] - 9s 46ms/step - loss: 0.1513\n",
            "Epoch 125/200\n",
            "187/187 [==============================] - 9s 46ms/step - loss: 0.1468\n",
            "Epoch 126/200\n",
            "187/187 [==============================] - 9s 46ms/step - loss: 0.1586\n",
            "Epoch 127/200\n",
            "187/187 [==============================] - 9s 46ms/step - loss: 0.1467\n",
            "Epoch 128/200\n",
            "187/187 [==============================] - 9s 46ms/step - loss: 0.1504\n",
            "Epoch 129/200\n",
            "187/187 [==============================] - 9s 46ms/step - loss: 0.1487\n",
            "Epoch 130/200\n",
            "187/187 [==============================] - 9s 47ms/step - loss: 0.1443\n",
            "Epoch 131/200\n",
            "187/187 [==============================] - 9s 46ms/step - loss: 0.1393\n",
            "Epoch 132/200\n",
            "187/187 [==============================] - 9s 46ms/step - loss: 0.1493\n",
            "Epoch 133/200\n",
            "187/187 [==============================] - 9s 46ms/step - loss: 0.1239\n",
            "Epoch 134/200\n",
            "187/187 [==============================] - 9s 46ms/step - loss: 0.1456\n",
            "Epoch 135/200\n",
            "187/187 [==============================] - 9s 46ms/step - loss: 0.1435\n",
            "Epoch 136/200\n",
            "187/187 [==============================] - 9s 46ms/step - loss: 0.1396\n",
            "Epoch 137/200\n",
            "187/187 [==============================] - 9s 47ms/step - loss: 0.1380\n",
            "Epoch 138/200\n",
            "187/187 [==============================] - 9s 46ms/step - loss: 0.1325\n",
            "Epoch 139/200\n",
            "187/187 [==============================] - 9s 46ms/step - loss: 0.1324\n",
            "Epoch 140/200\n",
            "187/187 [==============================] - 9s 46ms/step - loss: 0.1278\n",
            "Epoch 141/200\n",
            "187/187 [==============================] - 9s 46ms/step - loss: 0.1366\n",
            "Epoch 142/200\n",
            "187/187 [==============================] - 9s 46ms/step - loss: 0.1332\n",
            "Epoch 143/200\n",
            "187/187 [==============================] - 9s 46ms/step - loss: 0.1242\n",
            "Epoch 144/200\n",
            "187/187 [==============================] - 9s 46ms/step - loss: 0.1313\n",
            "Epoch 145/200\n",
            "187/187 [==============================] - 9s 46ms/step - loss: 0.1316\n",
            "Epoch 146/200\n",
            "187/187 [==============================] - 9s 46ms/step - loss: 0.1217\n",
            "Epoch 147/200\n",
            "187/187 [==============================] - 9s 46ms/step - loss: 0.1307\n",
            "Epoch 148/200\n",
            "187/187 [==============================] - 9s 46ms/step - loss: 0.1213\n",
            "Epoch 149/200\n",
            "187/187 [==============================] - 9s 46ms/step - loss: 0.1243\n",
            "Epoch 150/200\n",
            "187/187 [==============================] - 9s 46ms/step - loss: 0.1191\n",
            "Epoch 151/200\n",
            "187/187 [==============================] - 9s 46ms/step - loss: 0.1314\n",
            "Epoch 152/200\n",
            "187/187 [==============================] - 9s 46ms/step - loss: 0.1323\n",
            "Epoch 153/200\n",
            "187/187 [==============================] - 9s 46ms/step - loss: 0.1098\n",
            "Epoch 154/200\n",
            "187/187 [==============================] - 9s 46ms/step - loss: 0.1228\n",
            "Epoch 155/200\n",
            "187/187 [==============================] - 9s 46ms/step - loss: 0.1165\n",
            "Epoch 156/200\n",
            "187/187 [==============================] - 9s 46ms/step - loss: 0.1197\n",
            "Epoch 157/200\n",
            "187/187 [==============================] - 9s 46ms/step - loss: 0.1177\n",
            "Epoch 158/200\n",
            "187/187 [==============================] - 9s 46ms/step - loss: 0.1147\n",
            "Epoch 159/200\n",
            "187/187 [==============================] - 9s 46ms/step - loss: 0.1248\n",
            "Epoch 160/200\n",
            "187/187 [==============================] - 9s 46ms/step - loss: 0.1200\n",
            "Epoch 161/200\n",
            "187/187 [==============================] - 9s 46ms/step - loss: 0.1089\n",
            "Epoch 162/200\n",
            "187/187 [==============================] - 9s 46ms/step - loss: 0.1043\n",
            "Epoch 163/200\n",
            "187/187 [==============================] - 9s 46ms/step - loss: 0.1079\n",
            "Epoch 164/200\n",
            "187/187 [==============================] - 9s 46ms/step - loss: 0.1127\n",
            "Epoch 165/200\n",
            "187/187 [==============================] - 9s 46ms/step - loss: 0.1095\n",
            "Epoch 166/200\n",
            "187/187 [==============================] - 9s 46ms/step - loss: 0.1117\n",
            "Epoch 167/200\n",
            "187/187 [==============================] - 9s 46ms/step - loss: 0.1019\n",
            "Epoch 168/200\n",
            "187/187 [==============================] - 9s 46ms/step - loss: 0.1134\n",
            "Epoch 169/200\n",
            "187/187 [==============================] - 9s 46ms/step - loss: 0.1112\n",
            "Epoch 170/200\n",
            "187/187 [==============================] - 9s 46ms/step - loss: 0.1030\n",
            "Epoch 171/200\n",
            "187/187 [==============================] - 9s 46ms/step - loss: 0.1107\n",
            "Epoch 172/200\n",
            "187/187 [==============================] - 9s 46ms/step - loss: 0.1006\n",
            "Epoch 173/200\n",
            "187/187 [==============================] - 9s 46ms/step - loss: 0.1076\n",
            "Epoch 174/200\n",
            "187/187 [==============================] - 9s 46ms/step - loss: 0.1089\n",
            "Epoch 175/200\n",
            "187/187 [==============================] - 9s 46ms/step - loss: 0.1058\n",
            "Epoch 176/200\n",
            "187/187 [==============================] - 9s 46ms/step - loss: 0.1035\n",
            "Epoch 177/200\n",
            "187/187 [==============================] - 9s 46ms/step - loss: 0.1057\n",
            "Epoch 178/200\n",
            "187/187 [==============================] - 9s 46ms/step - loss: 0.1033\n",
            "Epoch 179/200\n",
            "187/187 [==============================] - 9s 46ms/step - loss: 0.1017\n",
            "Epoch 180/200\n",
            "187/187 [==============================] - 9s 46ms/step - loss: 0.0978\n",
            "Epoch 181/200\n",
            "187/187 [==============================] - 9s 46ms/step - loss: 0.1061\n",
            "Epoch 182/200\n",
            "187/187 [==============================] - 9s 46ms/step - loss: 0.1026\n",
            "Epoch 183/200\n",
            "187/187 [==============================] - 9s 46ms/step - loss: 0.0986\n",
            "Epoch 184/200\n",
            "187/187 [==============================] - 9s 46ms/step - loss: 0.0982\n",
            "Epoch 185/200\n",
            "187/187 [==============================] - 9s 46ms/step - loss: 0.0984\n",
            "Epoch 186/200\n",
            "187/187 [==============================] - 9s 46ms/step - loss: 0.0949\n",
            "Epoch 187/200\n",
            "187/187 [==============================] - 9s 46ms/step - loss: 0.0983\n",
            "Epoch 188/200\n",
            "187/187 [==============================] - 9s 46ms/step - loss: 0.0979\n",
            "Epoch 189/200\n",
            "187/187 [==============================] - 9s 46ms/step - loss: 0.1019\n",
            "Epoch 190/200\n",
            "187/187 [==============================] - 9s 46ms/step - loss: 0.0986\n",
            "Epoch 191/200\n",
            "187/187 [==============================] - 9s 46ms/step - loss: 0.0913\n",
            "Epoch 192/200\n",
            "187/187 [==============================] - 9s 46ms/step - loss: 0.0961\n",
            "Epoch 193/200\n",
            "187/187 [==============================] - 9s 46ms/step - loss: 0.0944\n",
            "Epoch 194/200\n",
            "187/187 [==============================] - 9s 46ms/step - loss: 0.0927\n",
            "Epoch 195/200\n",
            "187/187 [==============================] - 9s 46ms/step - loss: 0.0921\n",
            "Epoch 196/200\n",
            "187/187 [==============================] - 9s 46ms/step - loss: 0.0943\n",
            "Epoch 197/200\n",
            "187/187 [==============================] - 9s 46ms/step - loss: 0.0937\n",
            "Epoch 198/200\n",
            "187/187 [==============================] - 9s 46ms/step - loss: 0.0953\n",
            "Epoch 199/200\n",
            "187/187 [==============================] - 9s 46ms/step - loss: 0.0960\n",
            "Epoch 200/200\n",
            "187/187 [==============================] - 9s 46ms/step - loss: 0.0926\n"
          ]
        }
      ]
    },
    {
      "cell_type": "markdown",
      "source": [
        "### Evaluate Model"
      ],
      "metadata": {
        "id": "j-0X2re8g7vu"
      }
    },
    {
      "cell_type": "code",
      "source": [
        "# plot the learning curve for the loss function\n",
        "history_df = pd.DataFrame(history.history)\n",
        "fig = plt.figure(figsize=(15,4), facecolor=\"#97BACB\")\n",
        "fig.suptitle(\"Learning Plot of Model for Loss\")\n",
        "pl= sns.lineplot(data=history_df[\"loss\"],color=\"#444160\")\n",
        "pl.set(ylabel = \"Training Loss\")\n",
        "pl.set(xlabel = \"Epochs\")"
      ],
      "metadata": {
        "id": "eJip5Ngjg1JI",
        "colab": {
          "base_uri": "https://localhost:8080/",
          "height": 325
        },
        "outputId": "2b3caac9-00cd-45e8-a2bf-7b900a0275f0"
      },
      "execution_count": 21,
      "outputs": [
        {
          "output_type": "execute_result",
          "data": {
            "text/plain": [
              "[Text(0.5, 0, 'Epochs')]"
            ]
          },
          "metadata": {},
          "execution_count": 21
        },
        {
          "output_type": "display_data",
          "data": {
            "text/plain": [
              "<Figure size 1080x288 with 1 Axes>"
            ],
            "image/png": "[encoded data removed]"
          },
          "metadata": {
            "image/png": {
              "width": 878,
              "height": 290
            }
          }
        }
      ]
    },
    {
      "cell_type": "code",
      "source": [
        "# function to display music sheet\n",
        "def show(music):\n",
        "    display(Image(str(music.write(\"lily.png\"))))\n",
        "    \n",
        "def chord_n_notes(snippet):\n",
        "    melody = []\n",
        "    offset = 0\n",
        "    for i in snippet:\n",
        "        # if it is chord\n",
        "        if \".\" in i or i.isdigit():\n",
        "            # seperate the notes in chords\n",
        "            chord_notes = i.split(\".\")\n",
        "            notes = []\n",
        "            for j in chord_notes:\n",
        "                inst_note = int(j)\n",
        "                note_snip = note.Note(inst_note)\n",
        "                notes.append(note_snip)\n",
        "                chord_snip = chord.Chord(notes)\n",
        "                chord_snip.offset = offset\n",
        "                melody.append(chord_snip)\n",
        "        # if it is a note\n",
        "        else:\n",
        "            note_snip = note.Note(i)\n",
        "            note_snip.offset = offset\n",
        "            melody.append(note_snip)\n",
        "        # increase offset each iteration so that notes do not stack\n",
        "        offset += 1\n",
        "    \n",
        "    melody_midi = stream.Stream(melody)\n",
        "    return melody_midi"
      ],
      "metadata": {
        "id": "qNgeRkxSrrEs"
      },
      "execution_count": 23,
      "outputs": []
    },
    {
      "cell_type": "code",
      "source": [
        "# function to generate music\n",
        "def melody_generator(note_count):\n",
        "  seed = X_seed[np.random.randint(0, len(X_seed) - 1)]\n",
        "  music = \"\"\n",
        "  notes = []\n",
        "  for i in range(note_count):\n",
        "    seed = seed.reshape(1, length, 1)\n",
        "    prediction = model.predict(seed, verbose = 0)[0]\n",
        "    prediction = np.log(prediction) / 1.0\n",
        "    exp_preds = np.exp(prediction)\n",
        "    prediction = exp_preds/np.sum(exp_preds)\n",
        "\n",
        "    index = np.argmax(prediction)\n",
        "    index_N = index/float(symbol_len)\n",
        "    notes.append(index)\n",
        "    music = [reverse_map[char] for char in notes]\n",
        "\n",
        "    # seed = np.insert(seed[0], len(seed[0]), index_N)\n",
        "    # seed = seed[1:]\n",
        "\n",
        "  melody = chords_n_notes(music)\n",
        "  midi = stream.Stream(melody)\n",
        "  return music, midi\n",
        "\n",
        "  music_notes, melody = melody_generator(100)\n",
        "  show(melody)"
      ],
      "metadata": {
        "id": "mIZGdPkphUe_"
      },
      "execution_count": 24,
      "outputs": []
    },
    {
      "cell_type": "code",
      "source": [],
      "metadata": {
        "id": "SUiNfCeakk25"
      },
      "execution_count": 21,
      "outputs": []
    }
  ]
}